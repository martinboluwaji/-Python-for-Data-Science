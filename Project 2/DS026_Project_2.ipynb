{
  "nbformat": 4,
  "nbformat_minor": 0,
  "metadata": {
    "colab": {
      "name": "DS026_Project 2.ipynb",
      "provenance": [],
      "collapsed_sections": [],
      "include_colab_link": true
    },
    "kernelspec": {
      "name": "python3",
      "display_name": "Python 3"
    },
    "language_info": {
      "name": "python"
    }
  },
  "cells": [
    {
      "cell_type": "markdown",
      "metadata": {
        "id": "view-in-github",
        "colab_type": "text"
      },
      "source": [
        "<a href=\"https://colab.research.google.com/github/martinboluwaji/-Python-for-Data-Science/blob/main/Project%202/DS026_Project_2.ipynb\" target=\"_parent\"><img src=\"https://colab.research.google.com/assets/colab-badge.svg\" alt=\"Open In Colab\"/></a>"
      ]
    },
    {
      "cell_type": "markdown",
      "source": [
        "# Project 2\n",
        "\n",
        "## Reg_no: DS026\n",
        "\n"
      ],
      "metadata": {
        "id": "sQsX9MnI5KXt"
      }
    },
    {
      "cell_type": "markdown",
      "source": [
        " **This is a dataset on weekly sales of different grocery stores. \n",
        "Use what you've learned to answer the following questions.**"
      ],
      "metadata": {
        "id": "EExNBg6XGAm-"
      }
    },
    {
      "cell_type": "markdown",
      "source": [
        "[Link to data set](https://raw.githubusercontent.com/Tiamiyu1/Python-for-Data-Science-and-Analytics/main/Data/store_data.csv)\n",
        "\n",
        "\n",
        "\n"
      ],
      "metadata": {
        "id": "A0zToBXRI8qk"
      }
    },
    {
      "cell_type": "markdown",
      "source": [
        "## Given store sales data, use Python to draw conclusions about how these stores are performing."
      ],
      "metadata": {
        "id": "ePW9JKSdJRy5"
      }
    },
    {
      "cell_type": "code",
      "source": [
        "# imports libraries and load data\n",
        "\n",
        "import numpy as np\n",
        "import pandas as pd\n",
        "import matplotlib.pyplot as plt\n",
        "%matplotlib inline\n",
        "import seaborn as sns\n",
        "sns.set_style('darkgrid')"
      ],
      "metadata": {
        "id": "jLBF_xIDKSL_"
      },
      "execution_count": 2,
      "outputs": []
    },
    {
      "cell_type": "markdown",
      "source": [
        "### 1. Which store has the highest total sales for the final month of data?"
      ],
      "metadata": {
        "id": "9kOoq_YjKW6l"
      }
    },
    {
      "cell_type": "code",
      "source": [
        "store = pd.read_csv('https://raw.githubusercontent.com/Tiamiyu1/Python-for-Data-Science-and-Analytics/main/Data/store_data.csv')\n",
        "store\n"
  
      ],
      "metadata": {
        "id": "bUFmomfUL1d6",
        "outputId": "0ab0113f-ea79-40bc-bcff-509b4275daa1",
        "colab": {
          "base_uri": "https://localhost:8080/",
          "height": 423
        }
      },
      "execution_count": 3,
      "outputs": [
        {
          "output_type": "execute_result",
          "data": {
            "text/plain": [
              "           week  storeA  storeB  storeC  storeD  storeE\n",
              "0    2014-05-04    2643    8257    3893    6231    1294\n",
              "1    2014-05-11    6444    5736    5634    7092    2907\n",
              "2    2014-05-18    9646    2552    4253    5447    4736\n",
              "3    2014-05-25    5960   10740    8264    6063     949\n",
              "4    2014-06-01    7412    7374    3208    3985    3023\n",
              "..          ...     ...     ...     ...     ...     ...\n",
              "195  2018-01-28     282    6351    7759    5558    1028\n",
              "196  2018-02-04    4853    6503    4187    5956    1458\n",
              "197  2018-02-11    9202    3677    4540    6186     243\n",
              "198  2018-02-18    3512    7511    4151    5596    3501\n",
              "199  2018-02-25    7560    6904    3569    5045    2585\n",
              "\n",
              "[200 rows x 6 columns]"
            ],
            "text/html": [
              "\n",
              "  <div id=\"df-97bdf1e8-e424-4be5-96c0-c8b958317122\">\n",
              "    <div class=\"colab-df-container\">\n",
              "      <div>\n",
              "<style scoped>\n",
              "    .dataframe tbody tr th:only-of-type {\n",
              "        vertical-align: middle;\n",
              "    }\n",
              "\n",
              "    .dataframe tbody tr th {\n",
              "        vertical-align: top;\n",
              "    }\n",
              "\n",
              "    .dataframe thead th {\n",
              "        text-align: right;\n",
              "    }\n",
              "</style>\n",
              "<table border=\"1\" class=\"dataframe\">\n",
              "  <thead>\n",
              "    <tr style=\"text-align: right;\">\n",
              "      <th></th>\n",
              "      <th>week</th>\n",
              "      <th>storeA</th>\n",
              "      <th>storeB</th>\n",
              "      <th>storeC</th>\n",
              "      <th>storeD</th>\n",
              "      <th>storeE</th>\n",
              "    </tr>\n",
              "  </thead>\n",
              "  <tbody>\n",
              "    <tr>\n",
              "      <th>0</th>\n",
              "      <td>2014-05-04</td>\n",
              "      <td>2643</td>\n",
              "      <td>8257</td>\n",
              "      <td>3893</td>\n",
              "      <td>6231</td>\n",
              "      <td>1294</td>\n",
              "    </tr>\n",
              "    <tr>\n",
              "      <th>1</th>\n",
              "      <td>2014-05-11</td>\n",
              "      <td>6444</td>\n",
              "      <td>5736</td>\n",
              "      <td>5634</td>\n",
              "      <td>7092</td>\n",
              "      <td>2907</td>\n",
              "    </tr>\n",
              "    <tr>\n",
              "      <th>2</th>\n",
              "      <td>2014-05-18</td>\n",
              "      <td>9646</td>\n",
              "      <td>2552</td>\n",
              "      <td>4253</td>\n",
              "      <td>5447</td>\n",
              "      <td>4736</td>\n",
              "    </tr>\n",
              "    <tr>\n",
              "      <th>3</th>\n",
              "      <td>2014-05-25</td>\n",
              "      <td>5960</td>\n",
              "      <td>10740</td>\n",
              "      <td>8264</td>\n",
              "      <td>6063</td>\n",
              "      <td>949</td>\n",
              "    </tr>\n",
              "    <tr>\n",
              "      <th>4</th>\n",
              "      <td>2014-06-01</td>\n",
              "      <td>7412</td>\n",
              "      <td>7374</td>\n",
              "      <td>3208</td>\n",
              "      <td>3985</td>\n",
              "      <td>3023</td>\n",
              "    </tr>\n",
              "    <tr>\n",
              "      <th>...</th>\n",
              "      <td>...</td>\n",
              "      <td>...</td>\n",
              "      <td>...</td>\n",
              "      <td>...</td>\n",
              "      <td>...</td>\n",
              "      <td>...</td>\n",
              "    </tr>\n",
              "    <tr>\n",
              "      <th>195</th>\n",
              "      <td>2018-01-28</td>\n",
              "      <td>282</td>\n",
              "      <td>6351</td>\n",
              "      <td>7759</td>\n",
              "      <td>5558</td>\n",
              "      <td>1028</td>\n",
              "    </tr>\n",
              "    <tr>\n",
              "      <th>196</th>\n",
              "      <td>2018-02-04</td>\n",
              "      <td>4853</td>\n",
              "      <td>6503</td>\n",
              "      <td>4187</td>\n",
              "      <td>5956</td>\n",
              "      <td>1458</td>\n",
              "    </tr>\n",
              "    <tr>\n",
              "      <th>197</th>\n",
              "      <td>2018-02-11</td>\n",
              "      <td>9202</td>\n",
              "      <td>3677</td>\n",
              "      <td>4540</td>\n",
              "      <td>6186</td>\n",
              "      <td>243</td>\n",
              "    </tr>\n",
              "    <tr>\n",
              "      <th>198</th>\n",
              "      <td>2018-02-18</td>\n",
              "      <td>3512</td>\n",
              "      <td>7511</td>\n",
              "      <td>4151</td>\n",
              "      <td>5596</td>\n",
              "      <td>3501</td>\n",
              "    </tr>\n",
              "    <tr>\n",
              "      <th>199</th>\n",
              "      <td>2018-02-25</td>\n",
              "      <td>7560</td>\n",
              "      <td>6904</td>\n",
              "      <td>3569</td>\n",
              "      <td>5045</td>\n",
              "      <td>2585</td>\n",
              "    </tr>\n",
              "  </tbody>\n",
              "</table>\n",
              "<p>200 rows × 6 columns</p>\n",
              "</div>\n",
              "      <button class=\"colab-df-convert\" onclick=\"convertToInteractive('df-97bdf1e8-e424-4be5-96c0-c8b958317122')\"\n",
              "              title=\"Convert this dataframe to an interactive table.\"\n",
              "              style=\"display:none;\">\n",
              "        \n",
              "  <svg xmlns=\"http://www.w3.org/2000/svg\" height=\"24px\"viewBox=\"0 0 24 24\"\n",
              "       width=\"24px\">\n",
              "    <path d=\"M0 0h24v24H0V0z\" fill=\"none\"/>\n",
              "    <path d=\"M18.56 5.44l.94 2.06.94-2.06 2.06-.94-2.06-.94-.94-2.06-.94 2.06-2.06.94zm-11 1L8.5 8.5l.94-2.06 2.06-.94-2.06-.94L8.5 2.5l-.94 2.06-2.06.94zm10 10l.94 2.06.94-2.06 2.06-.94-2.06-.94-.94-2.06-.94 2.06-2.06.94z\"/><path d=\"M17.41 7.96l-1.37-1.37c-.4-.4-.92-.59-1.43-.59-.52 0-1.04.2-1.43.59L10.3 9.45l-7.72 7.72c-.78.78-.78 2.05 0 2.83L4 21.41c.39.39.9.59 1.41.59.51 0 1.02-.2 1.41-.59l7.78-7.78 2.81-2.81c.8-.78.8-2.07 0-2.86zM5.41 20L4 18.59l7.72-7.72 1.47 1.35L5.41 20z\"/>\n",
              "  </svg>\n",
              "      </button>\n",
              "      \n",
              "  <style>\n",
              "    .colab-df-container {\n",
              "      display:flex;\n",
              "      flex-wrap:wrap;\n",
              "      gap: 12px;\n",
              "    }\n",
              "\n",
              "    .colab-df-convert {\n",
              "      background-color: #E8F0FE;\n",
              "      border: none;\n",
              "      border-radius: 50%;\n",
              "      cursor: pointer;\n",
              "      display: none;\n",
              "      fill: #1967D2;\n",
              "      height: 32px;\n",
              "      padding: 0 0 0 0;\n",
              "      width: 32px;\n",
              "    }\n",
              "\n",
              "    .colab-df-convert:hover {\n",
              "      background-color: #E2EBFA;\n",
              "      box-shadow: 0px 1px 2px rgba(60, 64, 67, 0.3), 0px 1px 3px 1px rgba(60, 64, 67, 0.15);\n",
              "      fill: #174EA6;\n",
              "    }\n",
              "\n",
              "    [theme=dark] .colab-df-convert {\n",
              "      background-color: #3B4455;\n",
              "      fill: #D2E3FC;\n",
              "    }\n",
              "\n",
              "    [theme=dark] .colab-df-convert:hover {\n",
              "      background-color: #434B5C;\n",
              "      box-shadow: 0px 1px 3px 1px rgba(0, 0, 0, 0.15);\n",
              "      filter: drop-shadow(0px 1px 2px rgba(0, 0, 0, 0.3));\n",
              "      fill: #FFFFFF;\n",
              "    }\n",
              "  </style>\n",
              "\n",
              "      <script>\n",
              "        const buttonEl =\n",
              "          document.querySelector('#df-97bdf1e8-e424-4be5-96c0-c8b958317122 button.colab-df-convert');\n",
              "        buttonEl.style.display =\n",
              "          google.colab.kernel.accessAllowed ? 'block' : 'none';\n",
              "\n",
              "        async function convertToInteractive(key) {\n",
              "          const element = document.querySelector('#df-97bdf1e8-e424-4be5-96c0-c8b958317122');\n",
              "          const dataTable =\n",
              "            await google.colab.kernel.invokeFunction('convertToInteractive',\n",
              "                                                     [key], {});\n",
              "          if (!dataTable) return;\n",
              "\n",
              "          const docLinkHtml = 'Like what you see? Visit the ' +\n",
              "            '<a target=\"_blank\" href=https://colab.research.google.com/notebooks/data_table.ipynb>data table notebook</a>'\n",
              "            + ' to learn more about interactive tables.';\n",
              "          element.innerHTML = '';\n",
              "          dataTable['output_type'] = 'display_data';\n",
              "          await google.colab.output.renderOutput(dataTable, element);\n",
              "          const docLink = document.createElement('div');\n",
              "          docLink.innerHTML = docLinkHtml;\n",
              "          element.appendChild(docLink);\n",
              "        }\n",
              "      </script>\n",
              "    </div>\n",
              "  </div>\n",
              "  "
            ]
          },
          "metadata": {},
          "execution_count": 3
        }
      ]
    },
    {
      "cell_type": "code",
      "source": [
        "sfinal = store.tail(4)\n",
        "sfinal"
      ],
      "metadata": {
        "id": "-A8ggW2hLuVg",
        "outputId": "0bd5b416-ff39-4234-8a5a-35bd216734ae",
        "colab": {
          "base_uri": "https://localhost:8080/",
          "height": 175
        }
      },
      "execution_count": 4,
      "outputs": [
        {
          "output_type": "execute_result",
          "data": {
            "text/plain": [
              "           week  storeA  storeB  storeC  storeD  storeE\n",
              "196  2018-02-04    4853    6503    4187    5956    1458\n",
              "197  2018-02-11    9202    3677    4540    6186     243\n",
              "198  2018-02-18    3512    7511    4151    5596    3501\n",
              "199  2018-02-25    7560    6904    3569    5045    2585"
            ],
            "text/html": [
              "\n",
              "  <div id=\"df-bde6ce3e-b4c4-4141-bece-5ab99dfbc7fb\">\n",
              "    <div class=\"colab-df-container\">\n",
              "      <div>\n",
              "<style scoped>\n",
              "    .dataframe tbody tr th:only-of-type {\n",
              "        vertical-align: middle;\n",
              "    }\n",
              "\n",
              "    .dataframe tbody tr th {\n",
              "        vertical-align: top;\n",
              "    }\n",
              "\n",
              "    .dataframe thead th {\n",
              "        text-align: right;\n",
              "    }\n",
              "</style>\n",
              "<table border=\"1\" class=\"dataframe\">\n",
              "  <thead>\n",
              "    <tr style=\"text-align: right;\">\n",
              "      <th></th>\n",
              "      <th>week</th>\n",
              "      <th>storeA</th>\n",
              "      <th>storeB</th>\n",
              "      <th>storeC</th>\n",
              "      <th>storeD</th>\n",
              "      <th>storeE</th>\n",
              "    </tr>\n",
              "  </thead>\n",
              "  <tbody>\n",
              "    <tr>\n",
              "      <th>196</th>\n",
              "      <td>2018-02-04</td>\n",
              "      <td>4853</td>\n",
              "      <td>6503</td>\n",
              "      <td>4187</td>\n",
              "      <td>5956</td>\n",
              "      <td>1458</td>\n",
              "    </tr>\n",
              "    <tr>\n",
              "      <th>197</th>\n",
              "      <td>2018-02-11</td>\n",
              "      <td>9202</td>\n",
              "      <td>3677</td>\n",
              "      <td>4540</td>\n",
              "      <td>6186</td>\n",
              "      <td>243</td>\n",
              "    </tr>\n",
              "    <tr>\n",
              "      <th>198</th>\n",
              "      <td>2018-02-18</td>\n",
              "      <td>3512</td>\n",
              "      <td>7511</td>\n",
              "      <td>4151</td>\n",
              "      <td>5596</td>\n",
              "      <td>3501</td>\n",
              "    </tr>\n",
              "    <tr>\n",
              "      <th>199</th>\n",
              "      <td>2018-02-25</td>\n",
              "      <td>7560</td>\n",
              "      <td>6904</td>\n",
              "      <td>3569</td>\n",
              "      <td>5045</td>\n",
              "      <td>2585</td>\n",
              "    </tr>\n",
              "  </tbody>\n",
              "</table>\n",
              "</div>\n",
              "      <button class=\"colab-df-convert\" onclick=\"convertToInteractive('df-bde6ce3e-b4c4-4141-bece-5ab99dfbc7fb')\"\n",
              "              title=\"Convert this dataframe to an interactive table.\"\n",
              "              style=\"display:none;\">\n",
              "        \n",
              "  <svg xmlns=\"http://www.w3.org/2000/svg\" height=\"24px\"viewBox=\"0 0 24 24\"\n",
              "       width=\"24px\">\n",
              "    <path d=\"M0 0h24v24H0V0z\" fill=\"none\"/>\n",
              "    <path d=\"M18.56 5.44l.94 2.06.94-2.06 2.06-.94-2.06-.94-.94-2.06-.94 2.06-2.06.94zm-11 1L8.5 8.5l.94-2.06 2.06-.94-2.06-.94L8.5 2.5l-.94 2.06-2.06.94zm10 10l.94 2.06.94-2.06 2.06-.94-2.06-.94-.94-2.06-.94 2.06-2.06.94z\"/><path d=\"M17.41 7.96l-1.37-1.37c-.4-.4-.92-.59-1.43-.59-.52 0-1.04.2-1.43.59L10.3 9.45l-7.72 7.72c-.78.78-.78 2.05 0 2.83L4 21.41c.39.39.9.59 1.41.59.51 0 1.02-.2 1.41-.59l7.78-7.78 2.81-2.81c.8-.78.8-2.07 0-2.86zM5.41 20L4 18.59l7.72-7.72 1.47 1.35L5.41 20z\"/>\n",
              "  </svg>\n",
              "      </button>\n",
              "      \n",
              "  <style>\n",
              "    .colab-df-container {\n",
              "      display:flex;\n",
              "      flex-wrap:wrap;\n",
              "      gap: 12px;\n",
              "    }\n",
              "\n",
              "    .colab-df-convert {\n",
              "      background-color: #E8F0FE;\n",
              "      border: none;\n",
              "      border-radius: 50%;\n",
              "      cursor: pointer;\n",
              "      display: none;\n",
              "      fill: #1967D2;\n",
              "      height: 32px;\n",
              "      padding: 0 0 0 0;\n",
              "      width: 32px;\n",
              "    }\n",
              "\n",
              "    .colab-df-convert:hover {\n",
              "      background-color: #E2EBFA;\n",
              "      box-shadow: 0px 1px 2px rgba(60, 64, 67, 0.3), 0px 1px 3px 1px rgba(60, 64, 67, 0.15);\n",
              "      fill: #174EA6;\n",
              "    }\n",
              "\n",
              "    [theme=dark] .colab-df-convert {\n",
              "      background-color: #3B4455;\n",
              "      fill: #D2E3FC;\n",
              "    }\n",
              "\n",
              "    [theme=dark] .colab-df-convert:hover {\n",
              "      background-color: #434B5C;\n",
              "      box-shadow: 0px 1px 3px 1px rgba(0, 0, 0, 0.15);\n",
              "      filter: drop-shadow(0px 1px 2px rgba(0, 0, 0, 0.3));\n",
              "      fill: #FFFFFF;\n",
              "    }\n",
              "  </style>\n",
              "\n",
              "      <script>\n",
              "        const buttonEl =\n",
              "          document.querySelector('#df-bde6ce3e-b4c4-4141-bece-5ab99dfbc7fb button.colab-df-convert');\n",
              "        buttonEl.style.display =\n",
              "          google.colab.kernel.accessAllowed ? 'block' : 'none';\n",
              "\n",
              "        async function convertToInteractive(key) {\n",
              "          const element = document.querySelector('#df-bde6ce3e-b4c4-4141-bece-5ab99dfbc7fb');\n",
              "          const dataTable =\n",
              "            await google.colab.kernel.invokeFunction('convertToInteractive',\n",
              "                                                     [key], {});\n",
              "          if (!dataTable) return;\n",
              "\n",
              "          const docLinkHtml = 'Like what you see? Visit the ' +\n",
              "            '<a target=\"_blank\" href=https://colab.research.google.com/notebooks/data_table.ipynb>data table notebook</a>'\n",
              "            + ' to learn more about interactive tables.';\n",
              "          element.innerHTML = '';\n",
              "          dataTable['output_type'] = 'display_data';\n",
              "          await google.colab.output.renderOutput(dataTable, element);\n",
              "          const docLink = document.createElement('div');\n",
              "          docLink.innerHTML = docLinkHtml;\n",
              "          element.appendChild(docLink);\n",
              "        }\n",
              "      </script>\n",
              "    </div>\n",
              "  </div>\n",
              "  "
            ]
          },
          "metadata": {},
          "execution_count": 4
        }
      ]
    },
    {
      "cell_type": "code",
      "source": [
        "final=sfinal.sum()\n",
        "final"
      ],
      "metadata": {
        "colab": {
          "base_uri": "https://localhost:8080/"
        },
        "id": "n6zbJaFwLqvM",
        "outputId": "1c3e6102-478d-47ae-ed3d-1e67e85201da"
      },
      "execution_count": 5,
      "outputs": [
        {
          "output_type": "execute_result",
          "data": {
            "text/plain": [
              "week      2018-02-042018-02-112018-02-182018-02-25\n",
              "storeA                                       25127\n",
              "storeB                                       24595\n",
              "storeC                                       16447\n",
              "storeD                                       22783\n",
              "storeE                                        7787\n",
              "dtype: object"
            ]
          },
          "metadata": {},
          "execution_count": 5
        }
      ]
    },
    {
      "cell_type": "markdown",
      "source": [
        "Store A has the highest total sales for the final month"
      ],
      "metadata": {
        "id": "GwFNqN2sMtR6"
      }
    },
    
    {
      "cell_type": "code",
      "source": [
        "final.drop(['week']).plot.bar()"
      ],
      "metadata": {
        "id": "B762xl3wKvTK",
        "outputId": "d2b89589-c273-4a73-fcb6-1520332f8123",
        "colab": {
          "base_uri": "https://localhost:8080/",
          "height": 305
        }
      },
      "execution_count": 7,
      "outputs": [
        {
          "output_type": "execute_result",
          "data": {
            "text/plain": [
              "<matplotlib.axes._subplots.AxesSubplot at 0x7f000656f910>"
            ]
          },
          "metadata": {},
          "execution_count": 7
        },
        {
          "output_type": "display_data",
          "data": {
            "text/plain": [
              "<Figure size 432x288 with 1 Axes>"
            ],
            "image/png": "[encoded data removed]"
          },
          "metadata": {}
        }
      ]
    },
    {
      "cell_type": "markdown",
      "source": [
        "### 2. Which store makes the most sales on average?"
      ],
      "metadata": {
        "id": "jlQTN6AoKvpT"
      }
    },
    {
      "cell_type": "code",
      "source": [
        "store.describe()\n"
      ],
      "metadata": {
        "id": "f0vUDjbvKvpV",
        "outputId": "efbedc81-9d6e-4bd6-8f6f-c6e909c7f608",
        "colab": {
          "base_uri": "https://localhost:8080/",
          "height": 300
        }
      },
      "execution_count": 8,
      "outputs": [
        {
          "output_type": "execute_result",
          "data": {
            "text/plain": [
              "             storeA        storeB       storeC       storeD       storeE\n",
              "count    200.000000    200.000000   200.000000   200.000000   200.000000\n",
              "mean    5865.480000   6756.710000  4942.105000  5431.405000  2580.025000\n",
              "std     2958.230318   3601.339489  1325.407768  1183.111323  1725.651381\n",
              "min      137.000000     14.000000   927.000000  2276.000000    39.000000\n",
              "25%     3812.250000   3884.500000  4053.500000  4717.000000  1235.000000\n",
              "50%     5713.500000   6771.000000  4962.500000  5382.000000  2522.000000\n",
              "75%     7662.250000   9350.500000  5801.750000  6243.750000  3574.250000\n",
              "max    14403.000000  15841.000000  8293.000000  8190.000000  7553.000000"
            ],
            "text/html": [
              "\n",
              "  <div id=\"df-4802b9f0-7313-4081-8b43-9144127ed074\">\n",
              "    <div class=\"colab-df-container\">\n",
              "      <div>\n",
              "<style scoped>\n",
              "    .dataframe tbody tr th:only-of-type {\n",
              "        vertical-align: middle;\n",
              "    }\n",
              "\n",
              "    .dataframe tbody tr th {\n",
              "        vertical-align: top;\n",
              "    }\n",
              "\n",
              "    .dataframe thead th {\n",
              "        text-align: right;\n",
              "    }\n",
              "</style>\n",
              "<table border=\"1\" class=\"dataframe\">\n",
              "  <thead>\n",
              "    <tr style=\"text-align: right;\">\n",
              "      <th></th>\n",
              "      <th>storeA</th>\n",
              "      <th>storeB</th>\n",
              "      <th>storeC</th>\n",
              "      <th>storeD</th>\n",
              "      <th>storeE</th>\n",
              "    </tr>\n",
              "  </thead>\n",
              "  <tbody>\n",
              "    <tr>\n",
              "      <th>count</th>\n",
              "      <td>200.000000</td>\n",
              "      <td>200.000000</td>\n",
              "      <td>200.000000</td>\n",
              "      <td>200.000000</td>\n",
              "      <td>200.000000</td>\n",
              "    </tr>\n",
              "    <tr>\n",
              "      <th>mean</th>\n",
              "      <td>5865.480000</td>\n",
              "      <td>6756.710000</td>\n",
              "      <td>4942.105000</td>\n",
              "      <td>5431.405000</td>\n",
              "      <td>2580.025000</td>\n",
              "    </tr>\n",
              "    <tr>\n",
              "      <th>std</th>\n",
              "      <td>2958.230318</td>\n",
              "      <td>3601.339489</td>\n",
              "      <td>1325.407768</td>\n",
              "      <td>1183.111323</td>\n",
              "      <td>1725.651381</td>\n",
              "    </tr>\n",
              "    <tr>\n",
              "      <th>min</th>\n",
              "      <td>137.000000</td>\n",
              "      <td>14.000000</td>\n",
              "      <td>927.000000</td>\n",
              "      <td>2276.000000</td>\n",
              "      <td>39.000000</td>\n",
              "    </tr>\n",
              "    <tr>\n",
              "      <th>25%</th>\n",
              "      <td>3812.250000</td>\n",
              "      <td>3884.500000</td>\n",
              "      <td>4053.500000</td>\n",
              "      <td>4717.000000</td>\n",
              "      <td>1235.000000</td>\n",
              "    </tr>\n",
              "    <tr>\n",
              "      <th>50%</th>\n",
              "      <td>5713.500000</td>\n",
              "      <td>6771.000000</td>\n",
              "      <td>4962.500000</td>\n",
              "      <td>5382.000000</td>\n",
              "      <td>2522.000000</td>\n",
              "    </tr>\n",
              "    <tr>\n",
              "      <th>75%</th>\n",
              "      <td>7662.250000</td>\n",
              "      <td>9350.500000</td>\n",
              "      <td>5801.750000</td>\n",
              "      <td>6243.750000</td>\n",
              "      <td>3574.250000</td>\n",
              "    </tr>\n",
              "    <tr>\n",
              "      <th>max</th>\n",
              "      <td>14403.000000</td>\n",
              "      <td>15841.000000</td>\n",
              "      <td>8293.000000</td>\n",
              "      <td>8190.000000</td>\n",
              "      <td>7553.000000</td>\n",
              "    </tr>\n",
              "  </tbody>\n",
              "</table>\n",
              "</div>\n",
              "      <button class=\"colab-df-convert\" onclick=\"convertToInteractive('df-4802b9f0-7313-4081-8b43-9144127ed074')\"\n",
              "              title=\"Convert this dataframe to an interactive table.\"\n",
              "              style=\"display:none;\">\n",
              "        \n",
              "  <svg xmlns=\"http://www.w3.org/2000/svg\" height=\"24px\"viewBox=\"0 0 24 24\"\n",
              "       width=\"24px\">\n",
              "    <path d=\"M0 0h24v24H0V0z\" fill=\"none\"/>\n",
              "    <path d=\"M18.56 5.44l.94 2.06.94-2.06 2.06-.94-2.06-.94-.94-2.06-.94 2.06-2.06.94zm-11 1L8.5 8.5l.94-2.06 2.06-.94-2.06-.94L8.5 2.5l-.94 2.06-2.06.94zm10 10l.94 2.06.94-2.06 2.06-.94-2.06-.94-.94-2.06-.94 2.06-2.06.94z\"/><path d=\"M17.41 7.96l-1.37-1.37c-.4-.4-.92-.59-1.43-.59-.52 0-1.04.2-1.43.59L10.3 9.45l-7.72 7.72c-.78.78-.78 2.05 0 2.83L4 21.41c.39.39.9.59 1.41.59.51 0 1.02-.2 1.41-.59l7.78-7.78 2.81-2.81c.8-.78.8-2.07 0-2.86zM5.41 20L4 18.59l7.72-7.72 1.47 1.35L5.41 20z\"/>\n",
              "  </svg>\n",
              "      </button>\n",
              "      \n",
              "  <style>\n",
              "    .colab-df-container {\n",
              "      display:flex;\n",
              "      flex-wrap:wrap;\n",
              "      gap: 12px;\n",
              "    }\n",
              "\n",
              "    .colab-df-convert {\n",
              "      background-color: #E8F0FE;\n",
              "      border: none;\n",
              "      border-radius: 50%;\n",
              "      cursor: pointer;\n",
              "      display: none;\n",
              "      fill: #1967D2;\n",
              "      height: 32px;\n",
              "      padding: 0 0 0 0;\n",
              "      width: 32px;\n",
              "    }\n",
              "\n",
              "    .colab-df-convert:hover {\n",
              "      background-color: #E2EBFA;\n",
              "      box-shadow: 0px 1px 2px rgba(60, 64, 67, 0.3), 0px 1px 3px 1px rgba(60, 64, 67, 0.15);\n",
              "      fill: #174EA6;\n",
              "    }\n",
              "\n",
              "    [theme=dark] .colab-df-convert {\n",
              "      background-color: #3B4455;\n",
              "      fill: #D2E3FC;\n",
              "    }\n",
              "\n",
              "    [theme=dark] .colab-df-convert:hover {\n",
              "      background-color: #434B5C;\n",
              "      box-shadow: 0px 1px 3px 1px rgba(0, 0, 0, 0.15);\n",
              "      filter: drop-shadow(0px 1px 2px rgba(0, 0, 0, 0.3));\n",
              "      fill: #FFFFFF;\n",
              "    }\n",
              "  </style>\n",
              "\n",
              "      <script>\n",
              "        const buttonEl =\n",
              "          document.querySelector('#df-4802b9f0-7313-4081-8b43-9144127ed074 button.colab-df-convert');\n",
              "        buttonEl.style.display =\n",
              "          google.colab.kernel.accessAllowed ? 'block' : 'none';\n",
              "\n",
              "        async function convertToInteractive(key) {\n",
              "          const element = document.querySelector('#df-4802b9f0-7313-4081-8b43-9144127ed074');\n",
              "          const dataTable =\n",
              "            await google.colab.kernel.invokeFunction('convertToInteractive',\n",
              "                                                     [key], {});\n",
              "          if (!dataTable) return;\n",
              "\n",
              "          const docLinkHtml = 'Like what you see? Visit the ' +\n",
              "            '<a target=\"_blank\" href=https://colab.research.google.com/notebooks/data_table.ipynb>data table notebook</a>'\n",
              "            + ' to learn more about interactive tables.';\n",
              "          element.innerHTML = '';\n",
              "          dataTable['output_type'] = 'display_data';\n",
              "          await google.colab.output.renderOutput(dataTable, element);\n",
              "          const docLink = document.createElement('div');\n",
              "          docLink.innerHTML = docLinkHtml;\n",
              "          element.appendChild(docLink);\n",
              "        }\n",
              "      </script>\n",
              "    </div>\n",
              "  </div>\n",
              "  "
            ]
          },
          "metadata": {},
          "execution_count": 8
        }
      ]
    },
    {
      "cell_type": "markdown",
      "source": [
        "Store B makes the most sales on average"
      ],
      "metadata": {
        "id": "2DiIHnuCKwwS"
      }
    },
    
    {
      "cell_type": "code",
      "source": [
        "store.mean().plot.bar()"
      ],
      "metadata": {
        "id": "kL04siVwK19n",
        "outputId": "a5c4dd84-9782-4747-cc12-97e14442c0fa",
        "colab": {
          "base_uri": "https://localhost:8080/",
          "height": 361
        }
      },
      "execution_count": 10,
      "outputs": [
        {
          "output_type": "stream",
          "name": "stderr",
          "text": [
            "/usr/local/lib/python3.7/dist-packages/ipykernel_launcher.py:1: FutureWarning: Dropping of nuisance columns in DataFrame reductions (with 'numeric_only=None') is deprecated; in a future version this will raise TypeError.  Select only valid columns before calling the reduction.\n",
            "  \"\"\"Entry point for launching an IPython kernel.\n"
          ]
        },
        {
          "output_type": "execute_result",
          "data": {
            "text/plain": [
              "<matplotlib.axes._subplots.AxesSubplot at 0x7f0005822310>"
            ]
          },
          "metadata": {},
          "execution_count": 10
        },
        {
          "output_type": "display_data",
          "data": {
            "text/plain": [
              "<Figure size 432x288 with 1 Axes>"
            ],
            "image/png": "[encoded data removed]"
          },
          "metadata": {}
        }
      ]
    },
    {
      "cell_type": "markdown",
      "source": [
        "### 3. Which store sells the most during the week of March 13th, 2016?"
      ],
      "metadata": {
        "id": "409o8RrtK5XP"
      }
    },
    {
      "cell_type": "code",
      "source": [
        
        "most = store[store['week'] =='2016-03-13']\n",
        "most\n",
        "\n"
      ],
      "metadata": {
        "id": "hAvgjW2sK5XR",
        "outputId": "799a3246-0623-4cc9-a6c3-2a97641dac1d",
        "colab": {
          "base_uri": "https://localhost:8080/",
          "height": 81
        }
      },
      "execution_count": 11,
      "outputs": [
        {
          "output_type": "execute_result",
          "data": {
            "text/plain": [
              "          week  storeA  storeB  storeC  storeD  storeE\n",
              "97  2016-03-13    2054    1390    5112    5513    2536"
            ],
            "text/html": [
              "\n",
              "  <div id=\"df-fcd4630e-5302-4686-9bdc-b23a3f4101f3\">\n",
              "    <div class=\"colab-df-container\">\n",
              "      <div>\n",
              "<style scoped>\n",
              "    .dataframe tbody tr th:only-of-type {\n",
              "        vertical-align: middle;\n",
              "    }\n",
              "\n",
              "    .dataframe tbody tr th {\n",
              "        vertical-align: top;\n",
              "    }\n",
              "\n",
              "    .dataframe thead th {\n",
              "        text-align: right;\n",
              "    }\n",
              "</style>\n",
              "<table border=\"1\" class=\"dataframe\">\n",
              "  <thead>\n",
              "    <tr style=\"text-align: right;\">\n",
              "      <th></th>\n",
              "      <th>week</th>\n",
              "      <th>storeA</th>\n",
              "      <th>storeB</th>\n",
              "      <th>storeC</th>\n",
              "      <th>storeD</th>\n",
              "      <th>storeE</th>\n",
              "    </tr>\n",
              "  </thead>\n",
              "  <tbody>\n",
              "    <tr>\n",
              "      <th>97</th>\n",
              "      <td>2016-03-13</td>\n",
              "      <td>2054</td>\n",
              "      <td>1390</td>\n",
              "      <td>5112</td>\n",
              "      <td>5513</td>\n",
              "      <td>2536</td>\n",
              "    </tr>\n",
              "  </tbody>\n",
              "</table>\n",
              "</div>\n",
              "      <button class=\"colab-df-convert\" onclick=\"convertToInteractive('df-fcd4630e-5302-4686-9bdc-b23a3f4101f3')\"\n",
              "              title=\"Convert this dataframe to an interactive table.\"\n",
              "              style=\"display:none;\">\n",
              "        \n",
              "  <svg xmlns=\"http://www.w3.org/2000/svg\" height=\"24px\"viewBox=\"0 0 24 24\"\n",
              "       width=\"24px\">\n",
              "    <path d=\"M0 0h24v24H0V0z\" fill=\"none\"/>\n",
              "    <path d=\"M18.56 5.44l.94 2.06.94-2.06 2.06-.94-2.06-.94-.94-2.06-.94 2.06-2.06.94zm-11 1L8.5 8.5l.94-2.06 2.06-.94-2.06-.94L8.5 2.5l-.94 2.06-2.06.94zm10 10l.94 2.06.94-2.06 2.06-.94-2.06-.94-.94-2.06-.94 2.06-2.06.94z\"/><path d=\"M17.41 7.96l-1.37-1.37c-.4-.4-.92-.59-1.43-.59-.52 0-1.04.2-1.43.59L10.3 9.45l-7.72 7.72c-.78.78-.78 2.05 0 2.83L4 21.41c.39.39.9.59 1.41.59.51 0 1.02-.2 1.41-.59l7.78-7.78 2.81-2.81c.8-.78.8-2.07 0-2.86zM5.41 20L4 18.59l7.72-7.72 1.47 1.35L5.41 20z\"/>\n",
              "  </svg>\n",
              "      </button>\n",
              "      \n",
              "  <style>\n",
              "    .colab-df-container {\n",
              "      display:flex;\n",
              "      flex-wrap:wrap;\n",
              "      gap: 12px;\n",
              "    }\n",
              "\n",
              "    .colab-df-convert {\n",
              "      background-color: #E8F0FE;\n",
              "      border: none;\n",
              "      border-radius: 50%;\n",
              "      cursor: pointer;\n",
              "      display: none;\n",
              "      fill: #1967D2;\n",
              "      height: 32px;\n",
              "      padding: 0 0 0 0;\n",
              "      width: 32px;\n",
              "    }\n",
              "\n",
              "    .colab-df-convert:hover {\n",
              "      background-color: #E2EBFA;\n",
              "      box-shadow: 0px 1px 2px rgba(60, 64, 67, 0.3), 0px 1px 3px 1px rgba(60, 64, 67, 0.15);\n",
              "      fill: #174EA6;\n",
              "    }\n",
              "\n",
              "    [theme=dark] .colab-df-convert {\n",
              "      background-color: #3B4455;\n",
              "      fill: #D2E3FC;\n",
              "    }\n",
              "\n",
              "    [theme=dark] .colab-df-convert:hover {\n",
              "      background-color: #434B5C;\n",
              "      box-shadow: 0px 1px 3px 1px rgba(0, 0, 0, 0.15);\n",
              "      filter: drop-shadow(0px 1px 2px rgba(0, 0, 0, 0.3));\n",
              "      fill: #FFFFFF;\n",
              "    }\n",
              "  </style>\n",
              "\n",
              "      <script>\n",
              "        const buttonEl =\n",
              "          document.querySelector('#df-fcd4630e-5302-4686-9bdc-b23a3f4101f3 button.colab-df-convert');\n",
              "        buttonEl.style.display =\n",
              "          google.colab.kernel.accessAllowed ? 'block' : 'none';\n",
              "\n",
              "        async function convertToInteractive(key) {\n",
              "          const element = document.querySelector('#df-fcd4630e-5302-4686-9bdc-b23a3f4101f3');\n",
              "          const dataTable =\n",
              "            await google.colab.kernel.invokeFunction('convertToInteractive',\n",
              "                                                     [key], {});\n",
              "          if (!dataTable) return;\n",
              "\n",
              "          const docLinkHtml = 'Like what you see? Visit the ' +\n",
              "            '<a target=\"_blank\" href=https://colab.research.google.com/notebooks/data_table.ipynb>data table notebook</a>'\n",
              "            + ' to learn more about interactive tables.';\n",
              "          element.innerHTML = '';\n",
              "          dataTable['output_type'] = 'display_data';\n",
              "          await google.colab.output.renderOutput(dataTable, element);\n",
              "          const docLink = document.createElement('div');\n",
              "          docLink.innerHTML = docLinkHtml;\n",
              "          element.appendChild(docLink);\n",
              "        }\n",
              "      </script>\n",
              "    </div>\n",
              "  </div>\n",
              "  "
            ]
          },
          "metadata": {},
          "execution_count": 11
        }
      ]
    },
    
    {
      "cell_type": "markdown",
      "source": [
        "StoreD made the most sales during the week of March 12, 2016"
      ],
      "metadata": {
        "id": "JOdAjsCfLGyG"
      }
    },
    {
      "cell_type": "code",
      "source": [
        "most.sum().drop(['week']).plot.bar()"
      ],
      "metadata": {
        "id": "ML0PB5DmK8qA",
        "outputId": "7826d2b8-337d-481d-dbad-9b58d97d843f",
        "colab": {
          "base_uri": "https://localhost:8080/",
          "height": 305
        }
      },
      "execution_count": 13,
      "outputs": [
        {
          "output_type": "execute_result",
          "data": {
            "text/plain": [
              "<matplotlib.axes._subplots.AxesSubplot at 0x7f0005313a10>"
            ]
          },
          "metadata": {},
          "execution_count": 13
        },
        {
          "output_type": "display_data",
          "data": {
            "text/plain": [
              "<Figure size 432x288 with 1 Axes>"
            ],
            "image/png": "[encoded data removed]"
          },
          "metadata": {}
        }
      ]
    },
    {
      "cell_type": "markdown",
      "source": [
        "### 4. In what week does store C make its worst sales?"
      ],
      "metadata": {
        "id": "BYhUrYkaK9np"
      }
    },
    {
      "cell_type": "code",
      "source": [
       
        "store['storeC'].min()\n"
      ],
      "metadata": {
        "id": "zFIN5gEGK9nq",
        "outputId": "a6fd70ed-0678-4164-985d-a8feaffae390",
        "colab": {
          "base_uri": "https://localhost:8080/"
        }
      },
      "execution_count": 14,
      "outputs": [
        {
          "output_type": "execute_result",
          "data": {
            "text/plain": [
              "927"
            ]
          },
          "metadata": {},
          "execution_count": 14
        }
      ]
    },
    {
      "cell_type": "markdown",
      "source": [
        "C made its worst sale on 2014-07-06"
      ],
      "metadata": {
        "id": "H0XFRpZvO58r"
      }
    },
    
    {
      "cell_type": "code",
      "source": [
        "plt.figure(figsize=(50,10))\n",
        "sns.barplot( x='week',y='storeC', data=store)\n",
        "plt.xticks(rotation=90)"
      ],
      "metadata": {
        "id": "haUZNuYoK-G_",
        "outputId": "16571a9d-9f2e-4fd0-eb9c-05c8057a0403",
        "colab": {
          "base_uri": "https://localhost:8080/",
          "height": 571
        }
      },
      "execution_count": 16,
      "outputs": [
        {
          "output_type": "execute_result",
          "data": {
            "text/plain": [
              "(array([  0,   1,   2,   3,   4,   5,   6,   7,   8,   9,  10,  11,  12,\n",
              "         13,  14,  15,  16,  17,  18,  19,  20,  21,  22,  23,  24,  25,\n",
              "         26,  27,  28,  29,  30,  31,  32,  33,  34,  35,  36,  37,  38,\n",
              "         39,  40,  41,  42,  43,  44,  45,  46,  47,  48,  49,  50,  51,\n",
              "         52,  53,  54,  55,  56,  57,  58,  59,  60,  61,  62,  63,  64,\n",
              "         65,  66,  67,  68,  69,  70,  71,  72,  73,  74,  75,  76,  77,\n",
              "         78,  79,  80,  81,  82,  83,  84,  85,  86,  87,  88,  89,  90,\n",
              "         91,  92,  93,  94,  95,  96,  97,  98,  99, 100, 101, 102, 103,\n",
              "        104, 105, 106, 107, 108, 109, 110, 111, 112, 113, 114, 115, 116,\n",
              "        117, 118, 119, 120, 121, 122, 123, 124, 125, 126, 127, 128, 129,\n",
              "        130, 131, 132, 133, 134, 135, 136, 137, 138, 139, 140, 141, 142,\n",
              "        143, 144, 145, 146, 147, 148, 149, 150, 151, 152, 153, 154, 155,\n",
              "        156, 157, 158, 159, 160, 161, 162, 163, 164, 165, 166, 167, 168,\n",
              "        169, 170, 171, 172, 173, 174, 175, 176, 177, 178, 179, 180, 181,\n",
              "        182, 183, 184, 185, 186, 187, 188, 189, 190, 191, 192, 193, 194,\n",
              "        195, 196, 197, 198, 199]),\n",
              " <a list of 200 Text major ticklabel objects>)"
            ]
          },
          "metadata": {},
          "execution_count": 16
        },
        {
          "output_type": "display_data",
          "data": {
            "text/plain": [
              "<Figure size 3600x720 with 1 Axes>"
            ],
            "image/png": "[encoded data removed]"
          },
          "metadata": {}
        }
      ]
    },
    {
      "cell_type": "markdown",
      "source": [
        "### 5. Which store has the most sales in the latest 3-month period?"
      ],
      "metadata": {
        "id": "8Pq9fZUdK-SD"
      }
    },
    {
      "cell_type": "code",
      "source": [
        
        "latest = store.tail(13)\n",
        "latest\n",
        "\n"
      ],
      "metadata": {
        "id": "ZZ3wnau0K-SF",
        "outputId": "13267aa1-816a-4c32-f7bf-1bfdf3ad5a64",
        "colab": {
          "base_uri": "https://localhost:8080/",
          "height": 457
        }
      },
      "execution_count": 17,
      "outputs": [
        {
          "output_type": "execute_result",
          "data": {
            "text/plain": [
              "           week  storeA  storeB  storeC  storeD  storeE\n",
              "187  2017-12-03    5179    3850    6121    6778     113\n",
              "188  2017-12-10    9348    5624    5446    5448     227\n",
              "189  2017-12-17    5310    8647    5680    7049    3578\n",
              "190  2017-12-24    8976    9503    6240    3882    2890\n",
              "191  2017-12-31   11875    1527    6711    5265    1701\n",
              "192  2018-01-07    8978   11312    4158    5019    3842\n",
              "193  2018-01-14    6963    4014    4215    7153    3097\n",
              "194  2018-01-21    5553    3971    3761    6255    3071\n",
              "195  2018-01-28     282    6351    7759    5558    1028\n",
              "196  2018-02-04    4853    6503    4187    5956    1458\n",
              "197  2018-02-11    9202    3677    4540    6186     243\n",
              "198  2018-02-18    3512    7511    4151    5596    3501\n",
              "199  2018-02-25    7560    6904    3569    5045    2585"
            ],
            "text/html": [
              "\n",
              "  <div id=\"df-f6a2b1d7-9c3c-4bc4-b331-800addc13a6b\">\n",
              "    <div class=\"colab-df-container\">\n",
              "      <div>\n",
              "<style scoped>\n",
              "    .dataframe tbody tr th:only-of-type {\n",
              "        vertical-align: middle;\n",
              "    }\n",
              "\n",
              "    .dataframe tbody tr th {\n",
              "        vertical-align: top;\n",
              "    }\n",
              "\n",
              "    .dataframe thead th {\n",
              "        text-align: right;\n",
              "    }\n",
              "</style>\n",
              "<table border=\"1\" class=\"dataframe\">\n",
              "  <thead>\n",
              "    <tr style=\"text-align: right;\">\n",
              "      <th></th>\n",
              "      <th>week</th>\n",
              "      <th>storeA</th>\n",
              "      <th>storeB</th>\n",
              "      <th>storeC</th>\n",
              "      <th>storeD</th>\n",
              "      <th>storeE</th>\n",
              "    </tr>\n",
              "  </thead>\n",
              "  <tbody>\n",
              "    <tr>\n",
              "      <th>187</th>\n",
              "      <td>2017-12-03</td>\n",
              "      <td>5179</td>\n",
              "      <td>3850</td>\n",
              "      <td>6121</td>\n",
              "      <td>6778</td>\n",
              "      <td>113</td>\n",
              "    </tr>\n",
              "    <tr>\n",
              "      <th>188</th>\n",
              "      <td>2017-12-10</td>\n",
              "      <td>9348</td>\n",
              "      <td>5624</td>\n",
              "      <td>5446</td>\n",
              "      <td>5448</td>\n",
              "      <td>227</td>\n",
              "    </tr>\n",
              "    <tr>\n",
              "      <th>189</th>\n",
              "      <td>2017-12-17</td>\n",
              "      <td>5310</td>\n",
              "      <td>8647</td>\n",
              "      <td>5680</td>\n",
              "      <td>7049</td>\n",
              "      <td>3578</td>\n",
              "    </tr>\n",
              "    <tr>\n",
              "      <th>190</th>\n",
              "      <td>2017-12-24</td>\n",
              "      <td>8976</td>\n",
              "      <td>9503</td>\n",
              "      <td>6240</td>\n",
              "      <td>3882</td>\n",
              "      <td>2890</td>\n",
              "    </tr>\n",
              "    <tr>\n",
              "      <th>191</th>\n",
              "      <td>2017-12-31</td>\n",
              "      <td>11875</td>\n",
              "      <td>1527</td>\n",
              "      <td>6711</td>\n",
              "      <td>5265</td>\n",
              "      <td>1701</td>\n",
              "    </tr>\n",
              "    <tr>\n",
              "      <th>192</th>\n",
              "      <td>2018-01-07</td>\n",
              "      <td>8978</td>\n",
              "      <td>11312</td>\n",
              "      <td>4158</td>\n",
              "      <td>5019</td>\n",
              "      <td>3842</td>\n",
              "    </tr>\n",
              "    <tr>\n",
              "      <th>193</th>\n",
              "      <td>2018-01-14</td>\n",
              "      <td>6963</td>\n",
              "      <td>4014</td>\n",
              "      <td>4215</td>\n",
              "      <td>7153</td>\n",
              "      <td>3097</td>\n",
              "    </tr>\n",
              "    <tr>\n",
              "      <th>194</th>\n",
              "      <td>2018-01-21</td>\n",
              "      <td>5553</td>\n",
              "      <td>3971</td>\n",
              "      <td>3761</td>\n",
              "      <td>6255</td>\n",
              "      <td>3071</td>\n",
              "    </tr>\n",
              "    <tr>\n",
              "      <th>195</th>\n",
              "      <td>2018-01-28</td>\n",
              "      <td>282</td>\n",
              "      <td>6351</td>\n",
              "      <td>7759</td>\n",
              "      <td>5558</td>\n",
              "      <td>1028</td>\n",
              "    </tr>\n",
              "    <tr>\n",
              "      <th>196</th>\n",
              "      <td>2018-02-04</td>\n",
              "      <td>4853</td>\n",
              "      <td>6503</td>\n",
              "      <td>4187</td>\n",
              "      <td>5956</td>\n",
              "      <td>1458</td>\n",
              "    </tr>\n",
              "    <tr>\n",
              "      <th>197</th>\n",
              "      <td>2018-02-11</td>\n",
              "      <td>9202</td>\n",
              "      <td>3677</td>\n",
              "      <td>4540</td>\n",
              "      <td>6186</td>\n",
              "      <td>243</td>\n",
              "    </tr>\n",
              "    <tr>\n",
              "      <th>198</th>\n",
              "      <td>2018-02-18</td>\n",
              "      <td>3512</td>\n",
              "      <td>7511</td>\n",
              "      <td>4151</td>\n",
              "      <td>5596</td>\n",
              "      <td>3501</td>\n",
              "    </tr>\n",
              "    <tr>\n",
              "      <th>199</th>\n",
              "      <td>2018-02-25</td>\n",
              "      <td>7560</td>\n",
              "      <td>6904</td>\n",
              "      <td>3569</td>\n",
              "      <td>5045</td>\n",
              "      <td>2585</td>\n",
              "    </tr>\n",
              "  </tbody>\n",
              "</table>\n",
              "</div>\n",
              "      <button class=\"colab-df-convert\" onclick=\"convertToInteractive('df-f6a2b1d7-9c3c-4bc4-b331-800addc13a6b')\"\n",
              "              title=\"Convert this dataframe to an interactive table.\"\n",
              "              style=\"display:none;\">\n",
              "        \n",
              "  <svg xmlns=\"http://www.w3.org/2000/svg\" height=\"24px\"viewBox=\"0 0 24 24\"\n",
              "       width=\"24px\">\n",
              "    <path d=\"M0 0h24v24H0V0z\" fill=\"none\"/>\n",
              "    <path d=\"M18.56 5.44l.94 2.06.94-2.06 2.06-.94-2.06-.94-.94-2.06-.94 2.06-2.06.94zm-11 1L8.5 8.5l.94-2.06 2.06-.94-2.06-.94L8.5 2.5l-.94 2.06-2.06.94zm10 10l.94 2.06.94-2.06 2.06-.94-2.06-.94-.94-2.06-.94 2.06-2.06.94z\"/><path d=\"M17.41 7.96l-1.37-1.37c-.4-.4-.92-.59-1.43-.59-.52 0-1.04.2-1.43.59L10.3 9.45l-7.72 7.72c-.78.78-.78 2.05 0 2.83L4 21.41c.39.39.9.59 1.41.59.51 0 1.02-.2 1.41-.59l7.78-7.78 2.81-2.81c.8-.78.8-2.07 0-2.86zM5.41 20L4 18.59l7.72-7.72 1.47 1.35L5.41 20z\"/>\n",
              "  </svg>\n",
              "      </button>\n",
              "      \n",
              "  <style>\n",
              "    .colab-df-container {\n",
              "      display:flex;\n",
              "      flex-wrap:wrap;\n",
              "      gap: 12px;\n",
              "    }\n",
              "\n",
              "    .colab-df-convert {\n",
              "      background-color: #E8F0FE;\n",
              "      border: none;\n",
              "      border-radius: 50%;\n",
              "      cursor: pointer;\n",
              "      display: none;\n",
              "      fill: #1967D2;\n",
              "      height: 32px;\n",
              "      padding: 0 0 0 0;\n",
              "      width: 32px;\n",
              "    }\n",
              "\n",
              "    .colab-df-convert:hover {\n",
              "      background-color: #E2EBFA;\n",
              "      box-shadow: 0px 1px 2px rgba(60, 64, 67, 0.3), 0px 1px 3px 1px rgba(60, 64, 67, 0.15);\n",
              "      fill: #174EA6;\n",
              "    }\n",
              "\n",
              "    [theme=dark] .colab-df-convert {\n",
              "      background-color: #3B4455;\n",
              "      fill: #D2E3FC;\n",
              "    }\n",
              "\n",
              "    [theme=dark] .colab-df-convert:hover {\n",
              "      background-color: #434B5C;\n",
              "      box-shadow: 0px 1px 3px 1px rgba(0, 0, 0, 0.15);\n",
              "      filter: drop-shadow(0px 1px 2px rgba(0, 0, 0, 0.3));\n",
              "      fill: #FFFFFF;\n",
              "    }\n",
              "  </style>\n",
              "\n",
              "      <script>\n",
              "        const buttonEl =\n",
              "          document.querySelector('#df-f6a2b1d7-9c3c-4bc4-b331-800addc13a6b button.colab-df-convert');\n",
              "        buttonEl.style.display =\n",
              "          google.colab.kernel.accessAllowed ? 'block' : 'none';\n",
              "\n",
              "        async function convertToInteractive(key) {\n",
              "          const element = document.querySelector('#df-f6a2b1d7-9c3c-4bc4-b331-800addc13a6b');\n",
              "          const dataTable =\n",
              "            await google.colab.kernel.invokeFunction('convertToInteractive',\n",
              "                                                     [key], {});\n",
              "          if (!dataTable) return;\n",
              "\n",
              "          const docLinkHtml = 'Like what you see? Visit the ' +\n",
              "            '<a target=\"_blank\" href=https://colab.research.google.com/notebooks/data_table.ipynb>data table notebook</a>'\n",
              "            + ' to learn more about interactive tables.';\n",
              "          element.innerHTML = '';\n",
              "          dataTable['output_type'] = 'display_data';\n",
              "          await google.colab.output.renderOutput(dataTable, element);\n",
              "          const docLink = document.createElement('div');\n",
              "          docLink.innerHTML = docLinkHtml;\n",
              "          element.appendChild(docLink);\n",
              "        }\n",
              "      </script>\n",
              "    </div>\n",
              "  </div>\n",
              "  "
            ]
          },
          "metadata": {},
          "execution_count": 17
        }
      ]
    },
    {
      "cell_type": "code",
      "source": [
        "latest.sum().drop('week')"
      ],
      "metadata": {
        "id": "jzuh7ZAXMq-t",
        "outputId": "856679f7-d87e-4e71-bbb3-0ae709137b6e",
        "colab": {
          "base_uri": "https://localhost:8080/"
        }
      },
      "execution_count": 18,
      "outputs": [
        {
          "output_type": "execute_result",
          "data": {
            "text/plain": [
              "storeA    87591\n",
              "storeB    79394\n",
              "storeC    66538\n",
              "storeD    75190\n",
              "storeE    27334\n",
              "dtype: object"
            ]
          },
          "metadata": {},
          "execution_count": 18
        }
      ]
    },
    {
      "cell_type": "markdown",
      "source": [
        "StoreA has the most sale in the latest three month period."
      ],
      "metadata": {
        "id": "cJm7lSjAN6yV"
      }
    },
   
    {
      "cell_type": "code",
      "source": [
        "#latest.sum().plot(kind='bar')\n",
        "\n",
        "latest.sum().drop(['week']).plot.bar()"
      ],
      "metadata": {
        "id": "OfwWPo3jK-hA",
        "outputId": "0b0fa161-91f8-4d7b-a273-2c061690fc4d",
        "colab": {
          "base_uri": "https://localhost:8080/",
          "height": 305
        }
      },
      "execution_count": 20,
      "outputs": [
        {
          "output_type": "execute_result",
          "data": {
            "text/plain": [
              "<matplotlib.axes._subplots.AxesSubplot at 0x7f0004b6dd50>"
            ]
          },
          "metadata": {},
          "execution_count": 20
        },
        {
          "output_type": "display_data",
          "data": {
            "text/plain": [
              "<Figure size 432x288 with 1 Axes>"
            ],
            "image/png": "[encoded data removed]"
          },
          "metadata": {}
        }
      ]
    }
  ]
}
